{
  "cells": [
    {
      "cell_type": "markdown",
      "source": [
        "# IVIVC Tutorial\n### Shubham Maddhashiya\n### Sep 24, 2019\n# Introduction\n\nThis is an introduction and walk-through `IVIVC.jl`, a submodule under software `Pumas.jl`.\n\nIn this tutorial, we will establish In Vitro In Vivo Correlation model and predict Plasma Concentration Profile using `IVIVC.jl` for a given ivivc dataset.\n\nThe Basic workflow of IVIVC.jl is:\n  1. Read the data\n  2. InVitro Modeling\n  3. Unit Impulse Response (UIR)\n  4. Deconvolution of InVivo data\n  5. Establishing InVitro InVivo Correlation Model\n  6. Prediction of InVivo\n  7. Validation\n  8. Automation, Plots and Reports (High level API)\n\n\n## Installation\n\nThis package is under `Pumas.jl`, So if you haven't installed `Pumas.jl`. Please follow the instructions [here](https://tutorials.pumas.ai/html/introduction/introduction.html)\n\n\n## Getting Started\n\nLoad the package"
      ],
      "metadata": {}
    },
    {
      "outputs": [],
      "cell_type": "code",
      "source": [
        "using Pumas.IVIVC"
      ],
      "metadata": {},
      "execution_count": null
    },
    {
      "cell_type": "markdown",
      "source": [
        "## Read the data\n\nFirst of all, let's read the given data set, we will have three dataset file for InVitro, Reference InVivo, and InVivo data, one for each.\n\n`read_vitro`, `read_uir` and `read_vivo` functions are to read and parse InVitro, Reference InVivo, and InVivo data csv file, respectively.\n\nThese functions take `path` to the data file (or `DataFrame` object of csv file) and accept keyword args for columns headers.\n\nBy Default, keyword args for `read_vitro` functions are `id=:id, time=:time, conc=:conc, formulation=:form`, for `read_uir` keyword args are `time=:time, conc=:conc, formulation=:form, dose=:dose`,\nand for `read_vivo` function, these are `time=:time, conc=:conc, formulation=:form, dose=:dose`."
      ],
      "metadata": {}
    },
    {
      "outputs": [],
      "cell_type": "code",
      "source": [
        "vivo_data = read_vivo(\"./vivo_data.csv\");"
      ],
      "metadata": {},
      "execution_count": null
    },
    {
      "cell_type": "markdown",
      "source": [
        "if you have a different header for any column name, you can pass column name as keyword arg.\nFor example, if we have time column header `conc` for plasma concentration column, then we can do like this."
      ],
      "metadata": {}
    },
    {
      "outputs": [],
      "cell_type": "code",
      "source": [
        "vivo_data = read_vivo(\"./vivo_data.csv\", conc=:conc);"
      ],
      "metadata": {},
      "execution_count": null
    },
    {
      "cell_type": "markdown",
      "source": [
        "These functions return array of subject or batch sorted by their subject-id or batch-id.\nEach entry in this array is mapping of formulation type to corresponding data for a particular subject or batch of data.\n\nIf you have your data already in DataFrame object, you can pass it instead of `path` and rest will follow the same."
      ],
      "metadata": {}
    },
    {
      "outputs": [],
      "cell_type": "code",
      "source": [
        "using CSV\ndf = CSV.read(\"./vivo_data.csv\")\nvivo_data = read_vivo(df);"
      ],
      "metadata": {},
      "execution_count": null
    },
    {
      "cell_type": "markdown",
      "source": [
        "Let's see how the data are packed inside `vivo_data` and take the `fast` formulation (one of the formulation types in our data) data of the first subject."
      ],
      "metadata": {}
    },
    {
      "outputs": [],
      "cell_type": "code",
      "source": [
        "vivo_fast_data = vivo_data[1][\"fast\"]"
      ],
      "metadata": {},
      "execution_count": null
    },
    {
      "cell_type": "markdown",
      "source": [
        "Time array of this data"
      ],
      "metadata": {}
    },
    {
      "outputs": [],
      "cell_type": "code",
      "source": [
        "vivo_fast_data.time"
      ],
      "metadata": {},
      "execution_count": null
    },
    {
      "cell_type": "markdown",
      "source": [
        "Similar syntax follows for `read_uir` and `read_vitro` functions.\n\n## InVitro Modeling\n\nIn InVitro data, We have time series data of fraction dissolved amount of drug. Using this data, we have to\nfit a predefined model, which, of course will be continuous. Standard models available in IVIVC.jl are\nEmax, Weibull, Double Weibull and Makoid banakar. You can also use custom model by passing function to the model.\n\n`estimate_fdiss` function takes object to vitro data and `Symbol` to model to fit (which are available in the package)\nor function to the same. \n\nYou can see available models using `get_avail_models` function. It returns dictionary of `Symbol` to model."
      ],
      "metadata": {}
    },
    {
      "outputs": [],
      "cell_type": "code",
      "source": [
        "get_avail_models()"
      ],
      "metadata": {},
      "execution_count": null
    },
    {
      "cell_type": "markdown",
      "source": [
        "Let's fit Emax model to our InVitro data."
      ],
      "metadata": {}
    },
    {
      "outputs": [],
      "cell_type": "code",
      "source": [
        "vitro_data = read_vitro(\"./vitro_data.csv\");\nvitro_fast_data = vitro_data[1][\"fast\"]\nestimate_fdiss(vitro_fast_data, :emax);"
      ],
      "metadata": {},
      "execution_count": null
    },
    {
      "cell_type": "markdown",
      "source": [
        "We can call `plot` function on this instance of data to plot the fitted model."
      ],
      "metadata": {}
    },
    {
      "outputs": [],
      "cell_type": "code",
      "source": [
        "using Plots\nscatter(vitro_fast_data.time, vitro_fast_data.conc, label=\"Observed data\", xlabel=\"time\", ylabel=\"Fdiss\")\nplot!(vitro_fast_data, label=\"Fitted model\", legend=:topleft)"
      ],
      "metadata": {},
      "execution_count": null
    },
    {
      "cell_type": "markdown",
      "source": [
        "Note: If you are passing function then you will also have to provide initial estimates of parameters, lower bounds and upper bounds.\nFor example, let's fit Emax model again but passing our own function."
      ],
      "metadata": {}
    },
    {
      "outputs": [],
      "cell_type": "code",
      "source": [
        "Emax_model(t, p) = @. (p[1] * (t ^ p[2])) / (p[3]^p[2] + t^p[2])\np0 = [vitro_fast_data.conc[end], 1.2, vitro_fast_data.time[2]]\nlb = [0.0, 1.0, 0.0]\nub = [1.25, Inf, vitro_fast_data.time[end]]\nestimate_fdiss(vitro_fast_data, Emax_model, p0=p0, lower_bound=lb, upper_bound=ub);"
      ],
      "metadata": {},
      "execution_count": null
    },
    {
      "cell_type": "markdown",
      "source": [
        "Optimized parameters are stored in `pmin` vector."
      ],
      "metadata": {}
    },
    {
      "outputs": [],
      "cell_type": "code",
      "source": [
        "vitro_fast_data.pmin"
      ],
      "metadata": {},
      "execution_count": null
    },
    {
      "cell_type": "markdown",
      "source": [
        "Model the other formulations also, we will need it in later sections."
      ],
      "metadata": {}
    },
    {
      "outputs": [],
      "cell_type": "code",
      "source": [
        "estimate_fdiss(vitro_data[1][\"medium\"], :emax)\nestimate_fdiss(vitro_data[1][\"slow\"], :emax);"
      ],
      "metadata": {},
      "execution_count": null
    },
    {
      "cell_type": "markdown",
      "source": [
        "## Unit Impulse Response (UIR)\n\nWhen the reference vivo data is `Solution` type, we can fit `bateman` function which is available in the package.\nIn result, we will get estimation of `ka` (absorption rate constant), `ke` (elimination rate constant) and `V` (volume of distribution).\nWe will use this estimated `kel` in Wagner Nelson method. To do this step, we will use `estimate_uir` function. This function takes the object to uir data,\nSymbol to model or custom function and fraction of available dose. Default keyword arg is `frac` and is set to 1."
      ],
      "metadata": {}
    },
    {
      "outputs": [],
      "cell_type": "code",
      "source": [
        "uir_data = read_uir(\"./uir_data.csv\")\nestimate_uir(uir_data, :bateman);"
      ],
      "metadata": {},
      "execution_count": null
    },
    {
      "cell_type": "markdown",
      "source": [
        "To change fraction of available dose."
      ],
      "metadata": {}
    },
    {
      "outputs": [],
      "cell_type": "code",
      "source": [
        "estimate_uir(uir_data, :bateman, frac=1.0);"
      ],
      "metadata": {},
      "execution_count": null
    },
    {
      "cell_type": "markdown",
      "source": [
        "All the estimates parameters are stored in `pmin` vector, similar to others.\nNote: the first entry is `ka`, the second is `kel`, and the third one is `V`."
      ],
      "metadata": {}
    },
    {
      "outputs": [],
      "cell_type": "code",
      "source": [
        "ka, kel, V = uir_data.pmin\n@show ka\n@show kel\n@show V;"
      ],
      "metadata": {},
      "execution_count": null
    },
    {
      "cell_type": "markdown",
      "source": [
        "## Deconvolution of InVivo data\n\nPlasma Concentration profile is consist of absorption and elimination process, and from this, process to get absorption profile\nis known as deconvolution. In this tutorial, we will use the Wagner Nelson method, one of the traditional methods but is the most frequently used method in IVIVC.\nIn a later tutorial, we will see more advanced methods like numerical deconvolution and Differential Equation based methods.\nTo do this step, we will use `estimate_fabs` function, which takes `conc`, `time`, `kel` and `Symbol` to the deconvolution method. Symbol to Wagner Nelson\nmethod is `:wn`. In case of WN method, `estimate_fabs` returns `FAbs` profile and `AUC_Inf` (Area under plasma conc. curve from `time=0` to `time=Inf`).\n\nLet's apply the Wagner Nelson method on `fast` formulation data of the first subject."
      ],
      "metadata": {}
    },
    {
      "outputs": [],
      "cell_type": "code",
      "source": [
        "time = vivo_fast_data.time\nconc = vivo_fast_data.conc\nfabs, conc_auc = estimate_fabs(conc, time, kel, :wn)\n@show fabs\n@show conc_auc;"
      ],
      "metadata": {},
      "execution_count": null
    },
    {
      "cell_type": "markdown",
      "source": [
        "we will need `FAbs` for all formulation in next step, so let's get it now."
      ],
      "metadata": {}
    },
    {
      "outputs": [],
      "cell_type": "code",
      "source": [
        "all_fabs_dict = Dict(); all_conc_auc = Dict()\nfor (formulation, profile) in vivo_data[1]\n  all_fabs_dict[formulation], all_conc_auc[formulation] = estimate_fabs(profile.conc,\n                                                              profile.time, kel, :wn)\nend"
      ],
      "metadata": {},
      "execution_count": null
    },
    {
      "cell_type": "markdown",
      "source": [
        "## Establishing InVitro InVivo Correlation Model\n\nNow, we have arrived at the main step, for which we did all the above steps from reading the data to deconvolution.\nCurrently, there are three models available in the package, which includes time and amplitude scaling and shifting parameters.\n\n$$\n\\begin{align}\nFabs(t) &= AbsScale * Fdiss(t * Tscale)\\\\\nFabs(t) &= AbsScale * Fdiss(t * Tscale - Tshift)\\\\\nFabs(t) &= AbsScale * Fdiss(t * Tscale - Tshift) - AbsBase\n\\end{align}\n$$\n\nLet's establish first IVIVC model, which has two parameters (AbsScale and Tscale) to estimate."
      ],
      "metadata": {}
    },
    {
      "outputs": [],
      "cell_type": "code",
      "source": [
        "ivivc_model = (form, time, x) -> x[1] * vitro_data[1][form](time * x[2])\n# initial estimates of parameters, upper_bounds and lower_bounds\np0 = [0.8, 0.5]\nub = [1.25, 1.25]\nlb = [0.0, 0.0];"
      ],
      "metadata": {},
      "execution_count": null
    },
    {
      "cell_type": "markdown",
      "source": [
        "Now, we will define our MSE (mean square error) function which we will optimize using `Optim.jl` package."
      ],
      "metadata": {}
    },
    {
      "outputs": [],
      "cell_type": "code",
      "source": [
        "mse(x, y) = sum(abs2.(x .- y))/length(x)\nfunction errfun(x)\n  err = 0.0\n  for (form, prof) in vivo_data[1]   # (formulation => profile)\n    err = err + mse(ivivc_model(form, prof.time, x), all_fabs_dict[form])\n  end\n  return err\nend"
      ],
      "metadata": {},
      "execution_count": null
    },
    {
      "cell_type": "markdown",
      "source": [
        "Load the `Optim.jl`. If you don't have it, run this piece of code to install the pkg. `import Pkg; Pkg.add(\"Optim.jl\")`"
      ],
      "metadata": {}
    },
    {
      "outputs": [],
      "cell_type": "code",
      "source": [
        "using Optim\n\nod = Optim.OnceDifferentiable(p->errfun(p), p0, autodiff=:finite)\nmfit = Optim.optimize(od, lb, ub, p0, Fminbox(LBFGS()))\npmin = Optim.minimizer(mfit)"
      ],
      "metadata": {},
      "execution_count": null
    },
    {
      "cell_type": "markdown",
      "source": [
        "Estimated `AbsScale` and `Tscale` are"
      ],
      "metadata": {}
    },
    {
      "outputs": [],
      "cell_type": "code",
      "source": [
        "AbsScale, Tscale = pmin\n@show AbsScale\n@show Tscale;"
      ],
      "metadata": {},
      "execution_count": null
    },
    {
      "cell_type": "markdown",
      "source": [
        "## Prediction of InVivo\n\nNow, We have established IVIVC model; we can predict Plasma Concentration Profile for a formulation.\nLet's see how well our model is to predict plasma conc. profile of fast formulation.\nSince, we have InVitro data of fast formulation, we first model this data to get a continuous relation between `time` and `Fdiss` which\nwe already did in InVitro Modeling step.\nNote: for now, we are not predicting on external data.\n\nAfter this, we plug this `estimated Fdiss` to our IVIVC model and integrate the model over vivo time interval to predicted plasma conc. profile.\n\nLet's go into little bit mathematics of Wagner Nelson method and derive main equation for prediction.\n\nOur Main governing differential equation is (assuming first order elimination)\n$$\n\\begin{align}\n\\frac{dc}{dt} &= r(t) - kel * c\n\\end{align}\n$$\n\nwhere `r(t)` is input rate.\n\nBy Wagner Nelson method, we get the following expression\n\n$$\n\\begin{align}\nFabs(t) &= \\frac{c + kel * \\int_{0}^{t} c(t)dt}{kel * \\int_{0}^{\\infty} c(t)dt}\n\\end{align}\n$$\n\nAnd by our IVIVC model.\n\n$$\n\\begin{align}\nFabs(t) &= AbsScale * Fdiss(t * Tscale) \n\\end{align}\n$$\n\nUsing the above three equations, we can write the following expression\n\n$$\n\\begin{align}\n\\frac{dc}{dt} &= kel * AUC_0^\\infty * AbsScale * \\frac{d(Fdiss(t * Tscale))}{dt} - kel * c \n\\end{align}\n$$\n\nAbove equation can be simplified further.\n\n$$\n\\begin{align}\n\\frac{dc}{dt} &= kel * AUC_0^\\infty * AbsScale * (Tscale * g(t * Tscale)) - kel * c \n\\end{align}\n$$\n\nwhere `g(t)` is derivative of vitro model function and derivatives of all available vitro models are also available\nin the package. \n\nSo, to predict `c`, we just need to integrate the above differential equation with the initial value of `c` equals to `0`.\nWe will do the integration using `OrdinaryDiffEq.jl` package. To install it, do this, `import Pkg; Pkg.add(\"OrdinaryDiffEq.jl\")`."
      ],
      "metadata": {}
    },
    {
      "outputs": [],
      "cell_type": "code",
      "source": [
        "using OrdinaryDiffEq\n# grab the derivative of Emax function\nimport Pumas.IVIVC: e_der\ng = e_der\npmin = vitro_data[1][\"fast\"].pmin\nf(c, p, t) = kel * conc_auc * AbsScale * Tscale * g(t * Tscale, pmin) - kel * c\nc0 = 0.0\ntspan = (vivo_fast_data.time[1], vivo_fast_data.time[end])\nprob = ODEProblem(f, c0, tspan)\nsol = OrdinaryDiffEq.solve(prob, Tsit5(), reltol=1e-8, abstol=1e-8)\nsol"
      ],
      "metadata": {},
      "execution_count": null
    },
    {
      "cell_type": "markdown",
      "source": [
        "Now, Let's plot the predicted plasma conc. profile and original plasma conc. profile, so that we can visualize the performance of\nour IVIVC model."
      ],
      "metadata": {}
    },
    {
      "outputs": [],
      "cell_type": "code",
      "source": [
        "scatter(vivo_fast_data.time, vivo_fast_data.conc, label=\"Original C (fast)\")\nplot!(sol, label=\"Predicted C (fast)\", xlabel=\"time\", ylabel=\"Plasma Conc. Profile\")"
      ],
      "metadata": {},
      "execution_count": null
    },
    {
      "cell_type": "markdown",
      "source": [
        "## Validation\nValidation is a very important step to see how well our IVIVC model is performing against internal data (known as Internal Validation)\nand External data (External Validation). We can see the error in predicting `Cmax` and `AUC` of plasma conc. profile.\n`percentage_prediction_error` function which is available in the pkg, a handy function to calculate `Cmax` and `AUC` error.\nAccording to the [FDA guidelines](https://www.fda.gov/media/70939/download), the predictability can be accepted when the average absolute percentage error in `Cmax` and `AUC` are 10% or less and\nfor every formulation, are of 15% or less."
      ],
      "metadata": {}
    },
    {
      "outputs": [],
      "cell_type": "code",
      "source": [
        "cmax_pe, auc_pe = percentage_prediction_error(vivo_fast_data.time, vivo_fast_data.conc,\n                              sol.t, sol.u)   # sol.u is just predicted c\n@show cmax_pe\n@show auc_pe;"
      ],
      "metadata": {},
      "execution_count": null
    },
    {
      "cell_type": "markdown",
      "source": [
        "## Automation, Plots and Reports\n\nWe have gone through all the necessary steps to do IVIVC using the package, but now I will tell you `one-liner` to do all the steps from 2 to 5.\n`IVIVCModel` function will do all the above steps for you just in one line. `IVIVCModel` function takes data object for vitro, uir and vivo,\nand symbol to vitro model to fit. Others keyword args are `uir_frac=1.0` (fraction of dose available), `deconvo_method=:wn`,\nand `ivivc_model=:two` (two stands for the number of parameters in ivivc model and this is the first one of three models)."
      ],
      "metadata": {}
    },
    {
      "outputs": [],
      "cell_type": "code",
      "source": [
        "model = IVIVCModel(vitro_data, uir_data, vivo_data, vitro_model=:emax, uir_frac=1.0, deconvo_method=:wn, ivivc_model=:three);"
      ],
      "metadata": {},
      "execution_count": null
    },
    {
      "cell_type": "markdown",
      "source": [
        "Above line of code is equivalent to what we did the from step 2 to 5.\n\n### IVIVC Plot\nIt is the plot between `Fabs` and `Fdiss` with established IVIVC model. `ivivc_plot` is a convenient plot recipe\nto plot the ivivc plot."
      ],
      "metadata": {}
    },
    {
      "outputs": [],
      "cell_type": "code",
      "source": [
        "ivivc_plot(model)"
      ],
      "metadata": {},
      "execution_count": null
    },
    {
      "cell_type": "markdown",
      "source": [
        "### Levy Plot\nIt is the plot, which is generally used in the inspecting time scale between `Fabs` and `Fdiss` profile.\nIn this plot, we plot `TVitro` on the x-axis and `TVivo` on the y-axis at matched `Fdiss` and `Fdiss`.\nNote: We take time points at every 1/10th fraction of dissolved or absorbed, missing time points are filled using Linear Interpolation."
      ],
      "metadata": {}
    },
    {
      "outputs": [],
      "cell_type": "code",
      "source": [
        "levy_plot(model)"
      ],
      "metadata": {},
      "execution_count": null
    },
    {
      "cell_type": "markdown",
      "source": [
        "### Prediction and Validation\nNow, let's predict the plasma conc. profile for fast formulation."
      ],
      "metadata": {}
    },
    {
      "outputs": [],
      "cell_type": "code",
      "source": [
        "sol = predict_vivo(model, \"fast\");"
      ],
      "metadata": {},
      "execution_count": null
    },
    {
      "cell_type": "markdown",
      "source": [
        "plot the predicted plasma conc. profile vs original plasma conc. profile and `Cmax` and `AUC` predictio\nerror."
      ],
      "metadata": {}
    },
    {
      "outputs": [],
      "cell_type": "code",
      "source": [
        "time = vivo_data[1][\"fast\"].time\nconc = vivo_data[1][\"fast\"].conc\ncmax_pe, auc_pe = percentage_prediction_error(time, conc, sol.t, sol.u)\n@show cmax_pe, auc_pe;\nscatter(time, conc, label=\"Original C (fast)\")\nplot!(sol, label=\"predicted C (fast)\", xlabel=\"time\", ylabel=\"Plasma Conc. Profile\")"
      ],
      "metadata": {},
      "execution_count": null
    },
    {
      "cell_type": "markdown",
      "source": [
        "Add the plot for medium formulation and the percentage error in `Cmax` and `AUC`."
      ],
      "metadata": {}
    },
    {
      "outputs": [],
      "cell_type": "code",
      "source": [
        "sol = predict_vivo(model, \"medium\")\ntime = vivo_data[1][\"medium\"].time\nconc = vivo_data[1][\"medium\"].conc\ncmax_pe, auc_pe = percentage_prediction_error(time, conc, sol.t, sol.u)\n@show cmax_pe, auc_pe;\nscatter!(time, conc, label=\"Original C (medium)\")\nplot!(sol, label=\"Predicted C (medium)\")"
      ],
      "metadata": {},
      "execution_count": null
    },
    {
      "cell_type": "markdown",
      "source": [
        "Also, add plot for slow formulation and the percentage error in `Cmax` and `AUC`."
      ],
      "metadata": {}
    },
    {
      "outputs": [],
      "cell_type": "code",
      "source": [
        "sol = predict_vivo(model, \"slow\")\ntime = vivo_data[1][\"slow\"].time\nconc = vivo_data[1][\"slow\"].conc\ncmax_pe, auc_pe = percentage_prediction_error(time, conc, sol.t, sol.u)\n@show cmax_pe, auc_pe;\nscatter!(time, conc, label=\"Original C (slow)\")\nplot!(sol, label=\"Predicted C (slow)\")"
      ],
      "metadata": {},
      "execution_count": null
    },
    {
      "cell_type": "markdown",
      "source": [
        "### Reports\nYou can save all the estimated parameters and intermediate results using `to_csv` function to csv files.\nBy default, all the files will be saved to home directory. To save to another location, pass the path to location\nusing the `path` keyword argument."
      ],
      "metadata": {}
    },
    {
      "outputs": [],
      "cell_type": "code",
      "source": [
        "to_csv(model, path=homedir())"
      ],
      "metadata": {},
      "execution_count": null
    },
    {
      "cell_type": "markdown",
      "source": [
        "Note: This package is still in WIP; it might break."
      ],
      "metadata": {}
    }
  ],
  "nbformat_minor": 2,
  "metadata": {
    "language_info": {
      "file_extension": ".jl",
      "mimetype": "application/julia",
      "name": "julia",
      "version": "1.1.1"
    },
    "kernelspec": {
      "name": "julia-1.1",
      "display_name": "Julia 1.1.1",
      "language": "julia"
    }
  },
  "nbformat": 4
}
