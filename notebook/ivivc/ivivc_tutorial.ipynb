{
  "cells": [
    {
      "cell_type": "markdown",
      "source": [
        "# IVIVC Tutorial\n### Shubham Maddhashiya\n### Sep 5, 2019\n# Introduction\n\nThis is an introduction and walk-through `IVIVC.jl`, a submodule under software `Pumas.jl`.\n\nIn this tutorial, we will establish In Vitro In Vivo Correlation model and predict Plasma Concentration Profile using `IVIVC.jl` for a given ivivc dataset.\n\nThe Basic workflow of IVIVC.jl is:\n  1. Read the data\n  2. InVitro Modeling\n  3. Unit Impulse Response (UIR)\n  4. Deconvolution of InVivo data\n  5. Establishing InVitro InVivo Correlation Model\n  6. Validation\n\n\n## Installation\n\nThis package is under `Pumas.jl`, So if you haven't installed `Pumas.jl`. Please follow the instructions [here](https://tutorials.pumas.ai/html/introduction/introduction.html)\n\n\n## Getting Started\n\nLoad the package"
      ],
      "metadata": {}
    },
    {
      "outputs": [],
      "cell_type": "code",
      "source": [
        "using Pumas.IVIVC"
      ],
      "metadata": {},
      "execution_count": null
    },
    {
      "cell_type": "markdown",
      "source": [
        "## Read the data\n\nFirst of all, let's read the given data set, we will have three dataset file for InVitro, Reference InVivo, and InVivo data, one for each.\n\n`read_vitro`, `read_uir` and `read_vivo` functions are to read and parse InVitro, Reference InVivo, and InVivo data csv file, respectively.\n\nThese functions take `path` to the data file (or `DataFrame` object of csv file) and accept keyword args for columns headers.\n\nBy Default, keyword args for `read_vitro` functions are `id=:id, time=:time, conc=:conc, formulation=:form`, for `read_uir` keyword args are `time=:time, conc=:conc, formulation=:form, dose=:dose`,\nand for `read_vivo` function, these are `time=:time, conc=:conc, formulation=:form, dose=:dose`."
      ],
      "metadata": {}
    },
    {
      "outputs": [],
      "cell_type": "code",
      "source": [
        "vivo_data = read_vivo(\"./vivo_data.csv\");"
      ],
      "metadata": {},
      "execution_count": null
    },
    {
      "cell_type": "markdown",
      "source": [
        "if you have a different header for any column name, you can pass column name as keyword arg.\nFor example, if we have time column header `conc` for plasma concentration column, then we can do like this."
      ],
      "metadata": {}
    },
    {
      "outputs": [],
      "cell_type": "code",
      "source": [
        "vivo_data = read_vivo(\"./vivo_data.csv\", conc=:conc);"
      ],
      "metadata": {},
      "execution_count": null
    },
    {
      "cell_type": "markdown",
      "source": [
        "These functions return array of subject or batch sorted by their subject-id of batch-id.\nEach entry in this array is mapping of formulation type to corresponding data for a particular subject or batch of data.\n\nIf you have your data already in DataFrame object, you can pass it instead of `path` and rest will follow the same."
      ],
      "metadata": {}
    },
    {
      "outputs": [],
      "cell_type": "code",
      "source": [
        "using CSV\ndf = CSV.read(\"./vivo_data.csv\")\nvivo_data = read_vivo(df);"
      ],
      "metadata": {},
      "execution_count": null
    },
    {
      "cell_type": "markdown",
      "source": [
        "Let's see how the data are packed inside `vivo_data` and take the `fast` formulation (one of the formulation types in our data) data for the first subject."
      ],
      "metadata": {}
    },
    {
      "outputs": [],
      "cell_type": "code",
      "source": [
        "vivo_fast_data = vivo_data[1][\"fast\"]"
      ],
      "metadata": {},
      "execution_count": null
    },
    {
      "cell_type": "markdown",
      "source": [
        "Time array of this data"
      ],
      "metadata": {}
    },
    {
      "outputs": [],
      "cell_type": "code",
      "source": [
        "vivo_fast_data.time"
      ],
      "metadata": {},
      "execution_count": null
    },
    {
      "cell_type": "markdown",
      "source": [
        "Similar syntax follows for `read_uir` and `read_vitro` functions.\n\n## InVitro Modeling\n\nIn InVitro data, We have time series data of fraction dissolved amount of drug. Using this data, we have to\nfit a predefined model, which, of course will be continuous. Standard models available in IVIVC.jl are\nEmax, Weibull, Double Weibull and Makoid banakar. You can also use custom model by passing function of the model.\n\n`estimate_fdiss` function takes object to vitro data and `Symbol` to model to fit (which are available in the package)\nor function of the same. \n\nYou can see available models using `get_avail_models` function. It returns dictionary of `Symbol` to model."
      ],
      "metadata": {}
    },
    {
      "outputs": [],
      "cell_type": "code",
      "source": [
        "get_avail_models()"
      ],
      "metadata": {},
      "execution_count": null
    },
    {
      "cell_type": "markdown",
      "source": [
        "Let's fit Emax model to our InVitro data."
      ],
      "metadata": {}
    },
    {
      "outputs": [],
      "cell_type": "code",
      "source": [
        "vitro_data = read_vitro(\"./vitro_data.csv\");\nvitro_fast_data = vitro_data[1][\"fast\"]\nestimate_fdiss(vitro_fast_data, :emax);"
      ],
      "metadata": {},
      "execution_count": null
    },
    {
      "cell_type": "markdown",
      "source": [
        "We can call `plot` function on this instance of data to plot the fitted model."
      ],
      "metadata": {}
    },
    {
      "outputs": [],
      "cell_type": "code",
      "source": [
        "using Plots\nscatter(vitro_fast_data.time, vitro_fast_data.conc, label=\"Observed data\", xlabel=\"time\", ylabel=\"Fdiss\")\nplot!(vitro_fast_data, label=\"Fitted model\", legend=:topleft)"
      ],
      "metadata": {},
      "execution_count": null
    },
    {
      "cell_type": "markdown",
      "source": [
        "Note: If you are passing function then you will also have to provide initial estimates of parameters, lower bounds and upper bounds.\nFor example, let's fit Emax model again but passing our own function."
      ],
      "metadata": {}
    },
    {
      "outputs": [],
      "cell_type": "code",
      "source": [
        "Emax_model(t, p) = @. (p[1] * (t ^ p[2])) / (p[3]^p[2] + t^p[2])\np0 = [vitro_fast_data.conc[end], 1.2, vitro_fast_data.time[2]]\nlb = [0.0, 1.0, 0.0]\nub = [1.25, Inf, vitro_fast_data.time[end]]\nestimate_fdiss(vitro_fast_data, Emax_model, p0=p0, lower_bound=lb, upper_bound=ub);"
      ],
      "metadata": {},
      "execution_count": null
    },
    {
      "cell_type": "markdown",
      "source": [
        "Optimized parameters are stored in `pmin` vector."
      ],
      "metadata": {}
    },
    {
      "outputs": [],
      "cell_type": "code",
      "source": [
        "vitro_fast_data.pmin"
      ],
      "metadata": {},
      "execution_count": null
    }
  ],
  "nbformat_minor": 2,
  "metadata": {
    "language_info": {
      "file_extension": ".jl",
      "mimetype": "application/julia",
      "name": "julia",
      "version": "1.1.1"
    },
    "kernelspec": {
      "name": "julia-1.1",
      "display_name": "Julia 1.1.1",
      "language": "julia"
    }
  },
  "nbformat": 4
}
