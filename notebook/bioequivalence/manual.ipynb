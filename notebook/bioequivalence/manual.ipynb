{
  "cells": [
    {
      "cell_type": "markdown",
      "source": [
        "# Bioequivalence\n\nBioequivalence.jl is a package for performing bioequivalence analysis part of the Pumas (PharmaceUtical Modeling And Simulation) ecosystem for developing, simulating, fitting, and analyzing pharmaceutical models.\n\nThis document provides a how-to and technical details for performing bioequivalence analysis using the software.\n\n## How to obtain Bioequivalence.jl?\n\nBioequivalence.jl is covered under the [Julia Computing EULA](https://juliacomputing.com/eula) and distributed through via [JuliaPro](https://juliacomputing.com/products/juliapro.html) from Julia Computing Inc.\n\nUsing JuliaPro, one can install the Bioequivalence.jl package using the Julia package manager.\n\n```\nusing Pkg;\nPkg.add(\"Bioequivalence\")\n```\n\n## Getting Started\n\nTo load the package, use"
      ],
      "metadata": {}
    },
    {
      "outputs": [],
      "cell_type": "code",
      "source": [
        "using Bioequivalence"
      ],
      "metadata": {},
      "execution_count": null
    },
    {
      "cell_type": "markdown",
      "source": [
        "The Bioequivalence package provides two functions: `read_be` and `generate_design`.\n\n`read_be` is an alias for `BioequivalenceStudy` which takes a table with data from a bioequivalence study and other optional arguments and returns the output of the analysis. This function tries to be quite smart and flexible. For most cases, it should work how you want it to work, but allows for users to overwrite default behavior.\n\nThe other function provided by Bioequivalence.jl is `generate_design` which allows to generate data according to some bioequivalence study design.\n\n### Setting up the environment\n\nThere are a few packages that can be helpful when using Bioequivalence.jl.\n\n- CSV.jl is a package for importing text files (e.g., comma-separated values or CSV)\n- DataFrames.jl is a package that provides a table representation for data\n- StatsBase.jl is a package that provides a common way to query statistical models\n\nIn order to install any of these packages, one can use the package manager.\n\nFor example to install CSV.jl,\n\n```\njulia> using Pkg;\njulia> Pkg.add(\"CSV\")\n```\n\nWe can load the packages through,"
      ],
      "metadata": {}
    },
    {
      "outputs": [],
      "cell_type": "code",
      "source": [
        "using CSV, DataFrames, StatsBase, Bioequivalence"
      ],
      "metadata": {},
      "execution_count": null
    },
    {
      "cell_type": "markdown",
      "source": [
        "We always recommend using a local environment for each application which allows for reproducibility. For learning more about environments, we recommend checking out the Julia [documentation](https://julialang.github.io/Pkg.jl/v1/environments/#Creating-your-own-projects-1).\n\n### Nonparametric\n\nNonparametric designs are included for analysis of endpoints such as Tmax.\n\nWe can load data from a bioequivalence study by using the `CSV.read` function and giving itt the path to a file.\n\nIn this case, we will use some example/validation datasets included with Bioequivalence.jl.\n\nThis dataset is available from Patterson and Jones (2006)."
      ],
      "metadata": {}
    },
    {
      "outputs": [],
      "cell_type": "code",
      "source": [
        "PJ31 = CSV.read(string(dirname(pathof(Bioequivalence)),\n                       \"/../data/Nonparametric/PJ2006_3_1.tsv\"))\nfirst(PJ31, 6)"
      ],
      "metadata": {},
      "execution_count": null
    },
    {
      "cell_type": "markdown",
      "source": [
        "We have now assigned the data to the variable `PJ31`.\n\nThe average bioequivalence analysis can be requested through `read_be`."
      ],
      "metadata": {}
    },
    {
      "outputs": [],
      "cell_type": "code",
      "source": [
        "Tmax = read_be(PJ31, :Tmax)"
      ],
      "metadata": {},
      "execution_count": null
    },
    {
      "cell_type": "markdown",
      "source": [
        "The first argument is the data and the second argument is which variable should be used as the endpoint.\n\nVariable names `DataFrame`s are symbols.\n\nWhen the name of the endpoint matches some form of Tmax (case insensitive) it defaults to nonparametric.\n\nOtherwise, it will attempt a parametric design. This can be overwriten through the `nonparametric` argument.\n\nNonparametric analysis uses the Wilcoxon signed rank test."
      ],
      "metadata": {}
    },
    {
      "outputs": [],
      "cell_type": "code",
      "source": [
        "Tmax.model"
      ],
      "metadata": {},
      "execution_count": null
    },
    {
      "cell_type": "markdown",
      "source": [
        "Other endpoints can potentially be analyzed through a nonparametric method as well"
      ],
      "metadata": {}
    },
    {
      "outputs": [],
      "cell_type": "code",
      "source": [
        "PJ46 = CSV.read(string(dirname(pathof(Bioequivalence)),\n                       \"/../data/Williams/PJ2006_4_6.tsv\"))\nfirst(PJ46, 6)"
      ],
      "metadata": {},
      "execution_count": null
    },
    {
      "outputs": [],
      "cell_type": "code",
      "source": [
        "NP = read_be(PJ46, nonparametric = true)"
      ],
      "metadata": {},
      "execution_count": null
    },
    {
      "cell_type": "markdown",
      "source": [
        "### Parallel\n\nConsider a parallel design dataset with balance between treatment groups such as Clayton and Leslie ([1981](https://doi.org/10.1177/030006058100900608))."
      ],
      "metadata": {}
    },
    {
      "outputs": [],
      "cell_type": "code",
      "source": [
        "ClaytonandLeslie1981 = CSV.read(string(dirname(pathof(Bioequivalence)),\n                                       \"/../data/Parallel/FSL2015_1.tsv\"))\nfirst(ClaytonandLeslie1981, 6)"
      ],
      "metadata": {},
      "execution_count": null
    },
    {
      "cell_type": "markdown",
      "source": [
        "The bioequivalence analysis can be requested through `BioequivalenceStudy` or its alias `read_be`."
      ],
      "metadata": {}
    },
    {
      "outputs": [],
      "cell_type": "code",
      "source": [
        "# notice it defaults to the AUC endpoint\nParallel = read_be(ClaytonandLeslie1981) # Same as read_be(ClaytonandLeslie1981, :AUC)"
      ],
      "metadata": {},
      "execution_count": null
    },
    {
      "cell_type": "markdown",
      "source": [
        "The output shows the design, statistical model, and result.\n\nOne can access the statistical model directly through"
      ],
      "metadata": {}
    },
    {
      "outputs": [],
      "cell_type": "code",
      "source": [
        "Parallel.model"
      ],
      "metadata": {},
      "execution_count": null
    },
    {
      "cell_type": "markdown",
      "source": [
        "The results can be accessed through"
      ],
      "metadata": {}
    },
    {
      "outputs": [],
      "cell_type": "code",
      "source": [
        "Parallel.result"
      ],
      "metadata": {},
      "execution_count": null
    },
    {
      "cell_type": "markdown",
      "source": [
        "or calling `coeftable` on the object"
      ],
      "metadata": {}
    },
    {
      "outputs": [],
      "cell_type": "code",
      "source": [
        "coeftable(Parallel)"
      ],
      "metadata": {},
      "execution_count": null
    },
    {
      "cell_type": "markdown",
      "source": [
        "Notice that the results are validated with those reported in Fuglsang, Schütz, and Labes ([2015](https://doi.org/10.1208/s12248-014-9704-6)). The Geometric Means Ratio (GMR) has a point estimate of (48.58) and a 90% confidence interval of (26.78, 88.14). These are the values reported in the study obtained with various statistical packages with the Welch correction.\n\n### Crossover\n\nThe most common bioequivalence design is perhaps the 2x2 crossover (RT|TR). Consider a dataset from Schütz, Labes, and Fuglsang ([2014](https://doi.org/10.1208/s12248-014-9661-0)) which has been simulated with an extreme range in raw data, outliers, and imbalance between sequences and a large number of subjects."
      ],
      "metadata": {}
    },
    {
      "outputs": [],
      "cell_type": "code",
      "source": [
        "SLF2014 = CSV.read(string(dirname(pathof(Bioequivalence)),\n                          \"/../data/2S2P/SLF2014_8.tsv\"))\nfirst(SLF2014, 6)"
      ],
      "metadata": {},
      "execution_count": null
    },
    {
      "cell_type": "markdown",
      "source": [
        "The bioequivalence analysis can be requested through `BioequivalenceStudy`"
      ],
      "metadata": {}
    },
    {
      "outputs": [],
      "cell_type": "code",
      "source": [
        "# notice it defaults to the AUC endpoint\nCrossover = read_be(SLF2014)"
      ],
      "metadata": {},
      "execution_count": null
    },
    {
      "cell_type": "markdown",
      "source": [
        "As with other designs one can access the specific elements of the models use in the analysis."
      ],
      "metadata": {}
    },
    {
      "outputs": [],
      "cell_type": "code",
      "source": [
        "loglikelihood(Crossover.model.model)"
      ],
      "metadata": {},
      "execution_count": null
    },
    {
      "cell_type": "markdown",
      "source": [
        "The results are obtained through,"
      ],
      "metadata": {}
    },
    {
      "outputs": [],
      "cell_type": "code",
      "source": [
        "Crossover.result"
      ],
      "metadata": {},
      "execution_count": null
    },
    {
      "cell_type": "markdown",
      "source": [
        "Crossover 2x2 designs are validated with Schütz, Labes, and Fuglsang ([2014](https://doi.org/10.1208/s12248-014-9661-0)) and Patterson and Jones (2006). In this example, the estimate for the GMR is (93.42) with a 90% confidence interval of (86.81, 100.55).\n\n### Balaam\n\nThe Balaam design (RR|RT|TR|TT) is explored with a dataset from Chow and Liu (2009)."
      ],
      "metadata": {}
    },
    {
      "outputs": [],
      "cell_type": "code",
      "source": [
        "ChowandLiu2009 = CSV.read(string(dirname(pathof(Bioequivalence)),\n                                 \"/../data/Balaam/CL2009_9_2_1.tsv\"))\nfirst(ChowandLiu2009, 6)"
      ],
      "metadata": {},
      "execution_count": null
    },
    {
      "cell_type": "markdown",
      "source": [
        "The data has the same specification as other crossover studies.\n\nThe analysis follows similarly as well."
      ],
      "metadata": {}
    },
    {
      "outputs": [],
      "cell_type": "code",
      "source": [
        "# notice it defaults to the AUC endpoint\nBalaam = read_be(ChowandLiu2009)"
      ],
      "metadata": {},
      "execution_count": null
    },
    {
      "cell_type": "markdown",
      "source": [
        "We can also obtain the results for the intra-subject variabilities through"
      ],
      "metadata": {}
    },
    {
      "outputs": [],
      "cell_type": "code",
      "source": [
        "Balaam.model.σ"
      ],
      "metadata": {},
      "execution_count": null
    },
    {
      "cell_type": "markdown",
      "source": [
        "Designs with repeated measures include rescaled parameter estimates and variance analysis.\n\nThe rescaled parameter estimates are especially of interest when the reference drug is a highly variable drug (HVD) or a narrow therapeutic index (NTI) drug (Haidar et al. 2008).\n\nThe default values are:\n\n- regulatory constant for reference-scaled estimates: 0.1\n- auxiliary parameter for reference-scaled estimates: 1.11\n\nThese maybe be overwriten by passing the keyword arguments (see the docstring of `read_be` for more details).\n\n### Dual\n\nConsider the example 4.1 in Patterson and Jones (2006)"
      ],
      "metadata": {}
    },
    {
      "outputs": [],
      "cell_type": "code",
      "source": [
        "PJ41 = CSV.read(string(dirname(pathof(Bioequivalence)),\n                       \"/../data/Dual/PJ2006_4_1.tsv\"))\nfirst(PJ41, 6)"
      ],
      "metadata": {},
      "execution_count": null
    },
    {
      "outputs": [],
      "cell_type": "code",
      "source": [
        "Dual = read_be(PJ41, :Cmax)"
      ],
      "metadata": {},
      "execution_count": null
    },
    {
      "cell_type": "markdown",
      "source": [
        "### 2S4P Designs\n\nFor 2S4P designs both RRTT|TTRR and RTRT|TRTR are supported"
      ],
      "metadata": {}
    },
    {
      "outputs": [],
      "cell_type": "code",
      "source": [
        "PJ43 = CSV.read(string(dirname(pathof(Bioequivalence)),\n                       \"/../data/2S4P/PJ2006_4_3.tsv\"))\nfirst(PJ43, 6)"
      ],
      "metadata": {},
      "execution_count": null
    },
    {
      "outputs": [],
      "cell_type": "code",
      "source": [
        "Inner = read_be(PJ43)"
      ],
      "metadata": {},
      "execution_count": null
    },
    {
      "outputs": [],
      "cell_type": "code",
      "source": [
        "PJ44 = CSV.read(string(dirname(pathof(Bioequivalence)),\n                       \"/../data/2S4P/PJ2006_4_4.tsv\"))\nfirst(PJ44, 6)"
      ],
      "metadata": {},
      "execution_count": null
    },
    {
      "outputs": [],
      "cell_type": "code",
      "source": [
        "Outer = read_be(PJ44, :Cmax)"
      ],
      "metadata": {},
      "execution_count": null
    },
    {
      "cell_type": "markdown",
      "source": [
        "### Williams\n\nConsider a 3 formulations Williams design"
      ],
      "metadata": {}
    },
    {
      "outputs": [],
      "cell_type": "code",
      "source": [
        "PJ45 = CSV.read(string(dirname(pathof(Bioequivalence)),\n                       \"/../data/Williams/PJ2006_4_5.tsv\"))\nfirst(PJ45, 6)"
      ],
      "metadata": {},
      "execution_count": null
    },
    {
      "outputs": [],
      "cell_type": "code",
      "source": [
        "W3F = read_be(PJ45)"
      ],
      "metadata": {},
      "execution_count": null
    },
    {
      "cell_type": "markdown",
      "source": [
        "Imagine for a moment that the reference formulation is actually S instead of R.\nOne can pass such a parameter as following."
      ],
      "metadata": {}
    },
    {
      "outputs": [],
      "cell_type": "code",
      "source": [
        "W3F = read_be(PJ45, reference = 'S')"
      ],
      "metadata": {},
      "execution_count": null
    },
    {
      "cell_type": "markdown",
      "source": [
        "Williams designs for four formulations are available as well"
      ],
      "metadata": {}
    },
    {
      "outputs": [],
      "cell_type": "code",
      "source": [
        "PJ46 = CSV.read(string(dirname(pathof(Bioequivalence)),\n                       \"/../data/Williams/PJ2006_4_6.tsv\"))\nfirst(PJ46, 6)"
      ],
      "metadata": {},
      "execution_count": null
    },
    {
      "outputs": [],
      "cell_type": "code",
      "source": [
        "W4F = read_be(PJ46)"
      ],
      "metadata": {},
      "execution_count": null
    },
    {
      "cell_type": "markdown",
      "source": [
        "### Additional documentation\n\n#### Analyzing bioequivalence studies"
      ],
      "metadata": {}
    },
    {
      "outputs": [],
      "cell_type": "code",
      "source": [
        "@doc BioequivalenceStudy"
      ],
      "metadata": {},
      "execution_count": null
    },
    {
      "cell_type": "markdown",
      "source": [
        "#### Generating study design data"
      ],
      "metadata": {}
    },
    {
      "outputs": [],
      "cell_type": "code",
      "source": [
        "@doc generate_design"
      ],
      "metadata": {},
      "execution_count": null
    },
    {
      "cell_type": "markdown",
      "source": [
        "## References\n\nChow, Shein-Chung, and Jen-pei Liu. 2009. Design and Analysis of Bioavailability and Bioequivalence Studies. 3rd ed. Chapman & Hall/CRC Biostatistics Series 27. Boca Raton: CRC Press.\n\nClayton, D, and A Leslie. 1981. \"The Bioavailability of Erythromycin Stearate versus Enteric-Coated Erythromycin Base When Taken Immediately before and after Food.\" Journal of International Medical Research 9 (6): 470-77. [DOI:10.1177/030006058100900608](https://doi.org/10.1177/030006058100900608).\n\nFuglsang, Anders, Helmut Schütz, and Detlew Labes. 2015. \"Reference Datasets for Bioequivalence Trials in a Two-Group Parallel Design.\" The AAPS Journal 17 (2): 400-404. [DOI:10.1208/s12248-014-9704-6](https://doi.org/10.1208/s12248-014-9704-6).\n\nHaidar, Sam H., Fairouz Makhlouf, Donald J. Schuirmann, Terry Hyslop, Barbara Davit, Dale Conner, and Lawrence X. Yu. 2008. \"Evaluation of a Scaling Approach for the Bioequivalence of Highly Variable Drugs.\" The AAPS Journal 10 (3): 450-54. [DOI:10.1208/s12248-008-9053-4](https://doi.org/10.1208/s12248-008-9053-4).\n\nPatterson, Scott D, and Byron Jones. 2006. Bioequivalence and Statistics in Clinical Pharmacology. Boca Raton: Chapman & Hall/CRC. ISBN: 9781420034936.\n\nSchütz, Helmut, Detlew Labes, and Anders Fuglsang. 2014. \"Reference Datasets for 2-Treatment, 2-Sequence, 2-Period Bioequivalence Studies.\" The AAPS Journal 16 (6): 1292-97. [DOI:10.1208/s12248-014-9661-0](https://doi.org/10.1208/s12248-014-9661-0)."
      ],
      "metadata": {}
    }
  ],
  "nbformat_minor": 2,
  "metadata": {
    "language_info": {
      "file_extension": ".jl",
      "mimetype": "application/julia",
      "name": "julia",
      "version": "1.2.0"
    },
    "kernelspec": {
      "name": "julia-1.2",
      "display_name": "Julia 1.2.0",
      "language": "julia"
    }
  },
  "nbformat": 4
}
