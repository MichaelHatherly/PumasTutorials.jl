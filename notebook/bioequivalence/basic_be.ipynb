{
  "cells": [
    {
      "cell_type": "markdown",
      "source": [
        "# Introduction\n\nWe recommend first reading the [documentation](https://docs.pumas.ai/dev/) which goes over how to download and install the module.\n\n## Quick Start\n\nWe first explore an example from the `pumas_be` function documentation."
      ],
      "metadata": {}
    },
    {
      "outputs": [],
      "cell_type": "code",
      "source": [
        "ENV[\"COLUMNS\"] = 130;\nENV[\"LINES\"] = 30;"
      ],
      "metadata": {},
      "execution_count": null
    },
    {
      "cell_type": "markdown",
      "source": [
        "Let us load the module through"
      ],
      "metadata": {}
    },
    {
      "outputs": [],
      "cell_type": "code",
      "source": [
        "using Pkg\nPkg.activate(joinpath(@__DIR__, \"tutorials\", \"bioequivalence\"))\nusing Bioequivalence"
      ],
      "metadata": {},
      "execution_count": null
    },
    {
      "cell_type": "markdown",
      "source": [
        "The first example comes from a two sequences, two periods, two formulations crossover design (`RT|TR`) from Schütz, Labes, and Fuglsang (2014)."
      ],
      "metadata": {}
    },
    {
      "outputs": [],
      "cell_type": "code",
      "source": [
        "SLF2014 = Bioequivalence.testdata(\"SLF2014_8\")\nshow(SLF2014)"
      ],
      "metadata": {},
      "execution_count": null
    },
    {
      "cell_type": "markdown",
      "source": [
        "The `id` variable specifyies the identifier for each subject.\n\nThe `sequence` must be a `String` with each `Character` representing a formulation.\n\nFor example, `\"RTTR\"` represents `R` formulation in the first period, `T` formulation in the second and third periods, and `R` formulation in the fourth period.\n\nThe `period` variable must be integers specifying the period based on the sequence.\n\nFor example,"
      ],
      "metadata": {}
    },
    {
      "outputs": [],
      "cell_type": "code",
      "source": [
        "id = 1\nperiod = 1\nsequence = \"TR\"\nendpoint = 168.407"
      ],
      "metadata": {},
      "execution_count": null
    },
    {
      "cell_type": "markdown",
      "source": [
        "means that the endpoint for subject with ID `1` in the first period when receiving the `T` formulation recorded the value 168.407.\n\nNotice that the study design is fully characterized by the unique values of the `sequence` variable.\n\nIn order to perform the bioequivalence analysis we can pass the data to the `pumas_be` function."
      ],
      "metadata": {}
    },
    {
      "outputs": [],
      "cell_type": "code",
      "source": [
        "Crossover = pumas_be(SLF2014)\nshow(Crossover)"
      ],
      "metadata": {},
      "execution_count": null
    },
    {
      "cell_type": "markdown",
      "source": [
        "When passing only the data argument it will use the default values for all the other arguments.\n\nFor example, if the dataset had the variable indicating the subject ID as `subj` instead of `id`,"
      ],
      "metadata": {}
    },
    {
      "outputs": [],
      "cell_type": "code",
      "source": [
        "using DataFrames\nrename!(SLF2014, \"id\" => \"subj\")\ntry\n    pumas_be(SLF2014)\ncatch err\n    err\nend"
      ],
      "metadata": {},
      "execution_count": null
    },
    {
      "cell_type": "markdown",
      "source": [
        "In this case we can pass the variable position (i.e., `1`) or the name of the variable as a `Symbol` to the function."
      ],
      "metadata": {}
    },
    {
      "outputs": [],
      "cell_type": "code",
      "source": [
        "Crossover = pumas_be(SLF2014, id = :subj)\nshow(Crossover)"
      ],
      "metadata": {},
      "execution_count": null
    },
    {
      "cell_type": "markdown",
      "source": [
        "## Examining the Results\n\nThe `BioequivalenceStudy` will show the study design as well as how many subjects were in each sequence.\n\nFor convenience it also shows the formulation and periods as well as how many there are for that design.\n\nA coefficients table will also be showing the parameter estimates and related values for each comparison among each non-reference formulation and the reference formulation. Those will include the point estimate (`PE`), standard error (`SE`), the 90% confidence interval in the natural log scale (i.e., `lnLB`, `lnUB`), the geometric means ratio (`GMR`), and the 90% confidence intervals in the natural scale (i.e., `LB`, `UB`).\n\nThe average bioequivalence is assessed based on the lower and upper bounds of the 90% percent confidence interval. Based on the regulatory guidelines for the FDA, the confidence intervals are reported in percentage form with two decimal places. In other words, if the lower bound value is 0.85793 the percentage form would be 85.793% and be rounded down to 85.79%. If the upper bound value is 1.20522 the percentage form would be 120.522% and be rounded up to 120.53%. The Bioequivalence results will have correct percentage format in decimal form (e.g. 1.2053 for 120.53%). \n\nBesides the bioequivalence results one can query a number of properties.\n\nWe can access the information about the design"
      ],
      "metadata": {}
    },
    {
      "outputs": [],
      "cell_type": "code",
      "source": [
        "show(Crossover.design)"
      ],
      "metadata": {},
      "execution_count": null
    },
    {
      "cell_type": "markdown",
      "source": [
        "The data used for the model"
      ],
      "metadata": {}
    },
    {
      "outputs": [],
      "cell_type": "code",
      "source": [
        "show(Crossover.data)"
      ],
      "metadata": {},
      "execution_count": null
    },
    {
      "cell_type": "markdown",
      "source": [
        "Statistics about the data such as:\n\nhow many observations did the initial data had."
      ],
      "metadata": {}
    },
    {
      "outputs": [],
      "cell_type": "code",
      "source": [
        "show(Crossover.data_stats.total)"
      ],
      "metadata": {},
      "execution_count": null
    },
    {
      "cell_type": "markdown",
      "source": [
        "how many observations did the analysis actually used (e.g., total - count of missing values)."
      ],
      "metadata": {}
    },
    {
      "outputs": [],
      "cell_type": "code",
      "source": [
        "show(Crossover.data_stats.used_for_analysis)"
      ],
      "metadata": {},
      "execution_count": null
    },
    {
      "cell_type": "markdown",
      "source": [
        "as well as summary statistics of the endpoint distribution by sequence, period or formulation."
      ],
      "metadata": {}
    },
    {
      "outputs": [],
      "cell_type": "code",
      "source": [
        "show(Crossover.data_stats.sequence)"
      ],
      "metadata": {},
      "execution_count": null
    },
    {
      "outputs": [],
      "cell_type": "code",
      "source": [
        "show(Crossover.data_stats.period)"
      ],
      "metadata": {},
      "execution_count": null
    },
    {
      "outputs": [],
      "cell_type": "code",
      "source": [
        "show(Crossover.data_stats.formulation)"
      ],
      "metadata": {},
      "execution_count": null
    },
    {
      "cell_type": "markdown",
      "source": [
        "One can also query the model used for inference.\nThe exact API for extracting values from the models will depend on the design.\nThe most common API is documented [here](https://juliastats.org/StatsBase.jl/stable/statmodels/).\nFor example, we can obtain the coefficient of determination (`R²`) through the API."
      ],
      "metadata": {}
    },
    {
      "outputs": [],
      "cell_type": "code",
      "source": [
        "using StatsBase\nr2(Crossover.model)"
      ],
      "metadata": {},
      "execution_count": null
    },
    {
      "cell_type": "markdown",
      "source": [
        "likewise we can obtain the `deviance` of the model through"
      ],
      "metadata": {}
    },
    {
      "outputs": [],
      "cell_type": "code",
      "source": [
        "deviance(Crossover.model)"
      ],
      "metadata": {},
      "execution_count": null
    },
    {
      "cell_type": "markdown",
      "source": [
        "Derived statistics for the model such as the Wald test for join-significance for the sequence, period, and formulation covariates"
      ],
      "metadata": {}
    },
    {
      "outputs": [],
      "cell_type": "code",
      "source": [
        "show(Crossover.model_stats.Wald)"
      ],
      "metadata": {},
      "execution_count": null
    },
    {
      "cell_type": "markdown",
      "source": [
        "and the linear regression mean estimates per formulation"
      ],
      "metadata": {}
    },
    {
      "outputs": [],
      "cell_type": "code",
      "source": [
        "show(Crossover.model_stats.lsmeans)"
      ],
      "metadata": {},
      "execution_count": null
    },
    {
      "cell_type": "markdown",
      "source": [
        "are available as showen above.\n\nYou can also run models for various endpoints easily as following"
      ],
      "metadata": {}
    },
    {
      "outputs": [],
      "cell_type": "code",
      "source": [
        "data = Bioequivalence.testdata(\"PJ2017_4_3\")\nshow(data)"
      ],
      "metadata": {},
      "execution_count": null
    },
    {
      "outputs": [],
      "cell_type": "code",
      "source": [
        "auc = pumas_be(data)\ncmax = pumas_be(data, endpoint = :Cmax)\noutput = Dict(endpoint => pumas_be(data, endpoint = endpoint) for endpoint in setdiff(propertynames(data), (:id, :sequence, :period)))"
      ],
      "metadata": {},
      "execution_count": null
    },
    {
      "outputs": [],
      "cell_type": "code",
      "source": [
        "show(output[:AUC])"
      ],
      "metadata": {},
      "execution_count": null
    },
    {
      "outputs": [],
      "cell_type": "code",
      "source": [
        "show(output[:Cmax])"
      ],
      "metadata": {},
      "execution_count": null
    }
  ],
  "nbformat_minor": 2,
  "metadata": {
    "language_info": {
      "file_extension": ".jl",
      "mimetype": "application/julia",
      "name": "julia",
      "version": "1.4.2"
    },
    "kernelspec": {
      "name": "julia-1.4",
      "display_name": "Julia 1.4.2",
      "language": "julia"
    }
  },
  "nbformat": 4
}
